{
 "cells": [
  {
   "cell_type": "code",
   "execution_count": 1,
   "id": "0e53d376-120c-484a-8649-c36b8edfabf8",
   "metadata": {},
   "outputs": [],
   "source": [
    "# Usr for handling large .DTA files from DHS \n",
    "#Import required modules\n",
    "import numpy as np\n",
    "import pandas as pd\n",
    "\n",
    "#To read stata files in python\n",
    "import pyreadstat"
   ]
  },
  {
   "cell_type": "code",
   "execution_count": null,
   "id": "5efa2575-e578-46a6-b3a6-6be5e7bc9225",
   "metadata": {},
   "outputs": [],
   "source": [
    "# consider pip install for pyreadstat \n",
    "# pip install pyreadstat"
   ]
  },
  {
   "cell_type": "code",
   "execution_count": null,
   "id": "97f9b234-004a-4fa2-b114-cb974980418a",
   "metadata": {},
   "outputs": [],
   "source": [
    "#IR indicators from .DTA files\n",
    "selected_vars = [\n",
    "    'caseid', 'v001', 'v005', 'v002', 'b5','b5_01', 'b9', 'm4','m4_1', 'm39a', 'm34', 'm55_1', \n",
    "    'b3_01', 'v008', 'b8_01', 'b19_01', 'h3_1', 'h3_2', 'h3_3', 'h3_4', 'h3_5', \n",
    "    'h3_6', 'h34_1', 'h34_2', 'h34_3', 'h34_4', 'h34_5','m34_1', 'h34_6', 'h43_1', \n",
    "    'h43_2', 'h43_3', 'h43_4', 'h43_5', 'h43_6', 'v404', 'v415', 'v486', \n",
    "    'v414e', 'v414f', 'v414o', 'v411', 'v411a', 'v412', 'v414p', 'v414v', \n",
    "    'v414h', 'v414m', 'v414n', 'v414g', 'v414i', 'v414j', 'v414k', 'v414l', \n",
    "    'v190', 'v102'\n",
    "]\n",
    "\n",
    "# Reading the .dta file with the selected columns\n",
    "df, meta = pyreadstat.read_dta('IAIR7EFL.DTA', usecols=selected_vars)\n",
    "\n",
    "# Displaying the first few rows of the dataframe\n",
    "print(df.head())"
   ]
  },
  {
   "cell_type": "code",
   "execution_count": 4,
   "id": "0ba1fbed-397b-430d-a60d-b6db9348a8dd",
   "metadata": {},
   "outputs": [
    {
     "name": "stdout",
     "output_type": "stream",
     "text": [
      "   hv001  hv002   hv005  hv042  hv201  hv204 hv205  hv206  hv207  hv208  \\\n",
      "0    113      5  196202      1     14    996    12      1      1      1   \n",
      "1    113     45  196202      1     14    996    44      1      1      0   \n",
      "2    113     83  196202      1     14    996    12      1      1      1   \n",
      "3    113     34  196202      1     14    996    44      1      0      1   \n",
      "4    113     56  196202      1     14    996    12      1      1      1   \n",
      "\n",
      "   hv209  hv210  hv211  hv212  hv213  hv221  hv226  hv243c  \n",
      "0      0      1      0      0     34      0      8       0  \n",
      "1      0      0      0      0     34      0      2       0  \n",
      "2      0      0      0      0     34      0      2       0  \n",
      "3      0      0      0      0     34      0      8       0  \n",
      "4      0      0      0      0     34      0      1       0  \n"
     ]
    }
   ],
   "source": [
    "#HR indicators from .DTA file\n",
    "selected_vars = [\n",
    "    'hv001', 'hv002', 'hv005', 'hv103', 'hv105', 'hv104', 'hv109', 'hv210', 'hv211', 'hv209', 'hv208','hv243c', 'hv207', 'hv221', 'hv243', 'hv212', 'hv042', 'hv226', 'hv205', 'hv204', 'hv201', 'hv206', 'hv213'\n",
    "]\n",
    "\n",
    "# Reading the .dta file with the selected columns\n",
    "df, meta = pyreadstat.read_dta('IAHR7EFL.DTA', usecols=selected_vars)\n",
    "\n",
    "# Displaying the first few rows of the dataframe\n",
    "print(df.head())"
   ]
  },
  {
   "cell_type": "code",
   "execution_count": 3,
   "id": "519af7b8-8841-4463-8935-dc1c1222f7dd",
   "metadata": {},
   "outputs": [
    {
     "name": "stdout",
     "output_type": "stream",
     "text": [
      "<class 'pandas.core.frame.DataFrame'>\n",
      "RangeIndex: 636699 entries, 0 to 636698\n",
      "Data columns (total 17 columns):\n",
      " #   Column  Non-Null Count   Dtype \n",
      "---  ------  --------------   ----- \n",
      " 0   hv001   636699 non-null  int64 \n",
      " 1   hv002   636699 non-null  int64 \n",
      " 2   hv005   636699 non-null  int64 \n",
      " 3   hv042   636699 non-null  int64 \n",
      " 4   hv201   636699 non-null  int64 \n",
      " 5   hv204   636699 non-null  int64 \n",
      " 6   hv205   636698 non-null  object\n",
      " 7   hv206   636699 non-null  int64 \n",
      " 8   hv207   636699 non-null  int64 \n",
      " 9   hv208   636699 non-null  int64 \n",
      " 10  hv209   636699 non-null  int64 \n",
      " 11  hv210   636699 non-null  int64 \n",
      " 12  hv211   636699 non-null  int64 \n",
      " 13  hv212   636699 non-null  int64 \n",
      " 14  hv213   636699 non-null  int64 \n",
      " 15  hv221   636699 non-null  int64 \n",
      " 16  hv226   636699 non-null  int64 \n",
      "dtypes: int64(16), object(1)\n",
      "memory usage: 82.6+ MB\n"
     ]
    }
   ],
   "source": [
    "df.info()"
   ]
  },
  {
   "cell_type": "code",
   "execution_count": 5,
   "id": "17d4e7eb-9c40-4cf9-a169-135352fce0dd",
   "metadata": {},
   "outputs": [],
   "source": [
    "# save for processing in R\n",
    "# df.to_csv('hrfiles.csv', index=False) "
   ]
  },
  {
   "cell_type": "code",
   "execution_count": 8,
   "id": "4ba9c159-03cd-4f1d-971c-d13c9ae3cf9a",
   "metadata": {},
   "outputs": [
    {
     "name": "stdout",
     "output_type": "stream",
     "text": [
      "            caseid  v001  v002    v005  v008  v149 b3_01 h3_1 h34_1\n",
      "0    0100101305 04   113     5  193444  1437     5   NaN  NaN   NaN\n",
      "1    0100101305 05   113     5  193444  1437     4   NaN  NaN   NaN\n",
      "2    0100101345 02   113    45  193444  1437     1  1333  NaN   NaN\n",
      "3    0100101383 02   113    83  193444  1437     0  1242  NaN   NaN\n",
      "4    0100101383 03   113    83  193444  1437     5   NaN  NaN   NaN\n"
     ]
    }
   ],
   "source": [
    "#2ND IR files\n",
    "selected_vars = [\n",
    "    'caseid', 'v001', 'v005', 'b3_01', 'v149', 'mv149', 'v008', 'v002', 'b5', 'h34_1', 'h3_1']\n",
    "\n",
    "# Reading the .dta file with the selected columns\n",
    "df, meta = pyreadstat.read_dta('IAIR7EFL.DTA', usecols=selected_vars)\n",
    "\n",
    "# Displaying the first few rows of the dataframe\n",
    "print(df.head())"
   ]
  },
  {
   "cell_type": "code",
   "execution_count": 9,
   "id": "7a7f577d-9e00-4fa0-b746-c9fe201829a9",
   "metadata": {},
   "outputs": [],
   "source": [
    "# save for processing in R\n",
    "# df.to_csv('irfiles2.csv', index=False)"
   ]
  },
  {
   "cell_type": "code",
   "execution_count": 2,
   "id": "fd46a36f-1b65-4b63-93de-6020de9e2198",
   "metadata": {},
   "outputs": [
    {
     "name": "stdout",
     "output_type": "stream",
     "text": [
      "   hv001  hv002   hv005  hv008  hv042  hv103  hc1 hc57 hc70 hc72\n",
      "0    113      5  196202   1437      1      1  NaN  NaN  NaN  NaN\n",
      "1    113      5  196202   1437      1      1  NaN  NaN  NaN  NaN\n",
      "2    113      5  196202   1437      1      1  NaN  NaN  NaN  NaN\n",
      "3    113      5  196202   1437      1      1  NaN  NaN  NaN  NaN\n",
      "4    113      5  196202   1437      1      1  NaN  NaN  NaN  NaN\n"
     ]
    }
   ],
   "source": [
    "#PR indicators for anthropometery from .DTA file\n",
    "selected_vars = [\n",
    "    'hv001', 'hv005', 'hv002', 'hc57', 'hc72', 'hc1', 'hv103', 'hv042', 'hv55', 'hv008', 'hc70']\n",
    "\n",
    "# Reading the .dta file with the selected columns\n",
    "df, meta = pyreadstat.read_dta('IAPR7EFL.DTA', usecols=selected_vars)\n",
    "\n",
    "# Displaying the first few rows of the dataframe\n",
    "print(df.head())\n"
   ]
  },
  {
   "cell_type": "code",
   "execution_count": 3,
   "id": "68c92c46-934f-4bd1-b534-bf6b15e08e95",
   "metadata": {},
   "outputs": [],
   "source": [
    "# save for processing in R\n",
    "# df.to_csv('prfiles.csv', index=False)"
   ]
  },
  {
   "cell_type": "code",
   "execution_count": null,
   "id": "82727c04-53dc-45bb-adaf-f55e74e6ace1",
   "metadata": {},
   "outputs": [],
   "source": []
  }
 ],
 "metadata": {
  "kernelspec": {
   "display_name": "Python 3 (ipykernel)",
   "language": "python",
   "name": "python3"
  },
  "language_info": {
   "codemirror_mode": {
    "name": "ipython",
    "version": 3
   },
   "file_extension": ".py",
   "mimetype": "text/x-python",
   "name": "python",
   "nbconvert_exporter": "python",
   "pygments_lexer": "ipython3",
   "version": "3.11.7"
  }
 },
 "nbformat": 4,
 "nbformat_minor": 5
}
